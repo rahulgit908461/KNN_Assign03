{
 "cells": [
  {
   "cell_type": "code",
   "execution_count": 1,
   "id": "7ea87feb-debe-4979-a664-5fda7a2347c0",
   "metadata": {},
   "outputs": [],
   "source": [
    "#Q1. Write a Python code to implement the KNN classifier algorithm on load_iris dataset in\n",
    "#sklearn.datasets."
   ]
  },
  {
   "cell_type": "code",
   "execution_count": 2,
   "id": "5f42ab4a-680d-4785-8671-ae752ab627aa",
   "metadata": {},
   "outputs": [],
   "source": [
    "##Load the Dataset. ...\n",
    "#Describe the Dataset. ...\n",
    "#Split into X and Y. ...\n",
    "#x. ...\n",
    "# split the data into train and test sets x_train, x_test, y_train, y_test= train_test_split(x, y, test_size= 0.2,\n",
    "#shuffle= True, #shuffle the data to avoid bias random_state= 0) x_train= np. ...\n",
    "#scaler= Normalizer(). ...\n",
    "#KNN Step 2 (Find the nearest neighbors)"
   ]
  },
  {
   "cell_type": "code",
   "execution_count": 3,
   "id": "1c4993af-62e4-46dc-a054-0042fcaf94b6",
   "metadata": {},
   "outputs": [],
   "source": [
    "#Q2. Write a Python code to implement the KNN regressor algorithm on load_boston dataset in\n",
    "#sklearn.datasets."
   ]
  },
  {
   "cell_type": "code",
   "execution_count": 4,
   "id": "e1596735-495c-4f1d-be75-ca71bae69a41",
   "metadata": {},
   "outputs": [],
   "source": [
    "#Setting Up Your Environment.\n",
    "#Using the pandas Python Library.\n",
    "#Getting to Know Your Data. Displaying Data Types.\n",
    "#Getting to Know pandas' Data Structures.\n",
    "#Accessing Series Elements.\n",
    "#Accessing DataFrame Elements.\n",
    "#Querying Your Dataset.\n",
    "#Grouping and Aggregating Your Data."
   ]
  },
  {
   "cell_type": "code",
   "execution_count": 5,
   "id": "f5a68a8c-e89c-4390-b522-141ca26d9d23",
   "metadata": {},
   "outputs": [],
   "source": [
    "#Q3. Write a Python code snippet to find the optimal value of K for the KNN classifier algorithm using\n",
    "#cross-validation on load_iris dataset in sklearn.datasets."
   ]
  },
  {
   "cell_type": "code",
   "execution_count": 6,
   "id": "a45bb4ab-1668-46b0-8612-070102a452db",
   "metadata": {},
   "outputs": [],
   "source": [
    "#The choice of k will largely depend on the input data as data with more outliers or noise will likely perform \n",
    "#better with higher values of k. Overall, it is recommended to have an odd number for k to avoid ties in \n",
    "#classification, and cross-validation tactics can help you choose the optimal k for your dataset."
   ]
  },
  {
   "cell_type": "code",
   "execution_count": 7,
   "id": "849be97d-89b2-4284-b037-3f1b17f593ed",
   "metadata": {},
   "outputs": [],
   "source": [
    "#Q4. Implement the KNN regressor algorithm with feature scaling on load_boston dataset in\n",
    "#sklearn.datasets."
   ]
  },
  {
   "cell_type": "code",
   "execution_count": 8,
   "id": "785506c8-59fe-4f6b-a2b6-2708c34e2ce0",
   "metadata": {},
   "outputs": [],
   "source": [
    "#Q6. Implement a function to standardise the features before applying KNN classifier."
   ]
  },
  {
   "cell_type": "code",
   "execution_count": 10,
   "id": "5ff04aed-7e7e-4ae0-b305-a27d6b81b0e6",
   "metadata": {},
   "outputs": [],
   "source": [
    "#And K is the number of such data points we consider in our implementation of the algorithm. Therefore, distance \n",
    "#metric and K value are two important considerations while using the KNN algorithm. Euclidean distance is the most\n",
    "#popular distance metric.\n",
    "#Standardization makes all variables contribute equally to the similarity measures.04-Sept-2019"
   ]
  },
  {
   "cell_type": "code",
   "execution_count": 11,
   "id": "ba1391ba-1bf3-4335-bd38-25aa7c1f0222",
   "metadata": {},
   "outputs": [],
   "source": [
    "#Q7. Write a Python function to calculate the euclidean distance between two points."
   ]
  },
  {
   "cell_type": "code",
   "execution_count": 13,
   "id": "b07a52ea-da56-4b80-8263-d35fb7d4f804",
   "metadata": {},
   "outputs": [],
   "source": [
    "## Import NumPy Library.\n",
    "#P1 = np. array((9, 16, 25))\n",
    "#P2 = np. array((1, 4, 9))\n",
    "#temp = P1 - P2.\n",
    "#euclid_dist = np. sqrt(np. dot(temp. T, temp))\n",
    "#print(euclid_dist)\n",
    "#The math. dist() method returns the Euclidean distance between two points (p and q), where p and q are the \n",
    "#coordinates of that point. Note: The two points (p and q) must be of the same dimensions."
   ]
  },
  {
   "cell_type": "code",
   "execution_count": 14,
   "id": "bdf1db1d-1904-44f1-bb6f-cbcc6421b9c0",
   "metadata": {},
   "outputs": [],
   "source": [
    "#Q8. Write a Python function to calculate the manhattan distance between two points."
   ]
  },
  {
   "cell_type": "code",
   "execution_count": 15,
   "id": "93ecd8fa-4806-4285-9e97-576231c09d21",
   "metadata": {},
   "outputs": [],
   "source": [
    "#1) Manhattan Distance = | x 1 − x 2 | + | y 1 − y 2 | . An analogous relationship can be defined in a\n",
    "#higher-dimensional space. Nearest-neighbor methods have the advantage that they are easy to implement."
   ]
  },
  {
   "cell_type": "code",
   "execution_count": null,
   "id": "db06ef7c-bb68-4a54-83df-934e32d3487c",
   "metadata": {},
   "outputs": [],
   "source": []
  },
  {
   "cell_type": "code",
   "execution_count": null,
   "id": "c9a4dc1f-a222-4d9e-841b-6dca3b1dcee7",
   "metadata": {},
   "outputs": [],
   "source": []
  },
  {
   "cell_type": "code",
   "execution_count": null,
   "id": "b5d00e2c-454b-4a54-9d45-c471e704f2c1",
   "metadata": {},
   "outputs": [],
   "source": []
  }
 ],
 "metadata": {
  "kernelspec": {
   "display_name": "Python 3 (ipykernel)",
   "language": "python",
   "name": "python3"
  },
  "language_info": {
   "codemirror_mode": {
    "name": "ipython",
    "version": 3
   },
   "file_extension": ".py",
   "mimetype": "text/x-python",
   "name": "python",
   "nbconvert_exporter": "python",
   "pygments_lexer": "ipython3",
   "version": "3.10.8"
  }
 },
 "nbformat": 4,
 "nbformat_minor": 5
}
